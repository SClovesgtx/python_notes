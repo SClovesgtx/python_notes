{
 "cells": [
  {
   "attachments": {},
   "cell_type": "markdown",
   "metadata": {},
   "source": [
    "# Dataclasses helps you  to write better code"
   ]
  },
  {
   "cell_type": "code",
   "execution_count": 2,
   "metadata": {},
   "outputs": [
    {
     "name": "stdout",
     "output_type": "stream",
     "text": [
      "<__main__.Person object at 0x7f723868ba90>\n"
     ]
    }
   ],
   "source": [
    "import random \n",
    "import string\n",
    "\n",
    "\n",
    "def generate_id():\n",
    "    return \"\".join(random.choices(string.ascii_letters, k=12))\n",
    "\n",
    "class Person:\n",
    "    def __init__(self, name: str, address: str) -> None:\n",
    "        self.id = generate_id()\n",
    "        self.name = name\n",
    "        self.address = address\n",
    "        self.email_address = []\n",
    "\n",
    "def main() -> None:\n",
    "    person = Person(name=\"Cloves Paiva\", address=\"Florianópolis-SC Brazil\")\n",
    "    print(person)\n",
    "\n",
    "main()"
   ]
  },
  {
   "attachments": {},
   "cell_type": "markdown",
   "metadata": {},
   "source": [
    "See, when we print the class Person the output the name of the class and it address. That's is not so useful.\n",
    "\n",
    "This class just keep persons data. Given that is a kind of class to keep data, it would be better to see the fields and the data it keeps.\n",
    "\n",
    "We can do that by defining a data class."
   ]
  },
  {
   "cell_type": "code",
   "execution_count": 13,
   "metadata": {},
   "outputs": [
    {
     "name": "stdout",
     "output_type": "stream",
     "text": [
      "Person(name='Cloves Paiva', address='Florianópolis-SC Brazil', id='gljOtgylRurF', search_string='Cloves Paiva Florianópolis-SC Brazil')\n"
     ]
    }
   ],
   "source": [
    "import random \n",
    "import string\n",
    "from dataclasses import dataclass, field\n",
    "\n",
    "\n",
    "def generate_id():\n",
    "    return \"\".join(random.choices(string.ascii_letters, k=12))\n",
    "\n",
    "# kw_only=True means that the user must always include the names of\n",
    "# the fields/parameters at initialization.\n",
    "@dataclass(kw_only=True) # frozen=True means you can not modify the values after creation.\n",
    "class Person:\n",
    "    name:str\n",
    "    address:str\n",
    "\n",
    "    # the fields that has a default value must be after \n",
    "    # the ones that do not have default value.\n",
    "    id: str = field(default_factory=generate_id)\n",
    "    email_address: list[str] = field(default_factory=list, repr=False) # repr=false means we do not want to see the email list in print call\n",
    "\n",
    "    # this field is a combination of address and name\n",
    "    # but these field are not define yet:\n",
    "    search_string: str = field(init=False)\n",
    "\n",
    "    # but we can define how it may be set after initialization\n",
    "    # like a setter\n",
    "    def __post_init__(self) -> None:\n",
    "        self.search_string = f\"{self.name} {self.address}\" \n",
    "\n",
    "def main() -> None:\n",
    "    person = Person(name=\"Cloves Paiva\", address=\"Florianópolis-SC Brazil\")\n",
    "    print(person)\n",
    "\n",
    "main()"
   ]
  },
  {
   "attachments": {},
   "cell_type": "markdown",
   "metadata": {},
   "source": [
    "If we need that the data class could not change value after initialization, we can set ```frozen=true```, but now we could not ```__pot_init__``` the ```search_string```, nut we can use ```property```. "
   ]
  },
  {
   "cell_type": "code",
   "execution_count": 16,
   "metadata": {},
   "outputs": [
    {
     "name": "stdout",
     "output_type": "stream",
     "text": [
      "Person(name='Cloves Paiva', address='Florianópolis-SC Brazil', id='QJEjSGuYqZwR')\n",
      "Cloves Paiva Florianópolis-SC Brazil\n"
     ]
    }
   ],
   "source": [
    "import random \n",
    "import string\n",
    "from dataclasses import dataclass, field\n",
    "\n",
    "\n",
    "def generate_id():\n",
    "    return \"\".join(random.choices(string.ascii_letters, k=12))\n",
    "\n",
    "# kw_only=True means that the user must always include the names of\n",
    "# the fields/parameters at initialization.\n",
    "@dataclass(frozen=True) # frozen=True means you can not modify the values after creation.\n",
    "class Person:\n",
    "    name:str\n",
    "    address:str\n",
    "\n",
    "    # the fields that has a default value must be after \n",
    "    # the ones that do not have default value.\n",
    "    id: str = field(default_factory=generate_id)\n",
    "    email_address: list[str] = field(default_factory=list, repr=False) # repr=false means we do not want to see the email list in print call\n",
    "\n",
    "    # that's is also know as \"getter\"\n",
    "    @property\n",
    "    def search_string(self) -> str:\n",
    "        return f\"{self.name} {self.address}\"\n",
    "\n",
    "def main() -> None:\n",
    "    person = Person(name=\"Cloves Paiva\", address=\"Florianópolis-SC Brazil\")\n",
    "    print(person)\n",
    "    print(person.search_string)\n",
    "\n",
    "main()"
   ]
  },
  {
   "attachments": {},
   "cell_type": "markdown",
   "metadata": {},
   "source": [
    "# Setters"
   ]
  },
  {
   "cell_type": "code",
   "execution_count": 22,
   "metadata": {},
   "outputs": [
    {
     "name": "stdout",
     "output_type": "stream",
     "text": [
      "VideoClip(minutes=10, seconds=10, title='The Video')\n",
      "610\n",
      "10 10\n",
      "340\n",
      "5 40\n"
     ]
    }
   ],
   "source": [
    "import random \n",
    "import string\n",
    "from dataclasses import dataclass\n",
    "\n",
    "\n",
    "def generate_id():\n",
    "    return \"\".join(random.choices(string.ascii_letters, k=12))\n",
    "\n",
    "\n",
    "@dataclass\n",
    "class VideoClip:\n",
    "    minutes: int\n",
    "    seconds: int\n",
    "    title: str\n",
    "\n",
    "    @property\n",
    "    def duration(self) -> int:\n",
    "        \"\"\"\n",
    "        Total video duration in seconds\n",
    "        \"\"\"\n",
    "        return self.minutes * 60 + self.seconds\n",
    "\n",
    "    @duration.setter\n",
    "    def duration(self, seconds: int) -> None:\n",
    "        \"\"\"\n",
    "        receive total seconds and aplit it into minutes and seconds.\n",
    "        \"\"\"\n",
    "        self.minutes, self.seconds = divmod(seconds, 60)\n",
    "\n",
    "def main() -> None:\n",
    "    video = VideoClip(minutes=10, seconds=10, title=\"The Video\")\n",
    "    print(video)\n",
    "    print(video.duration)\n",
    "    print(video.minutes, video.seconds)\n",
    "    video.duration = 340\n",
    "    print(video.duration)\n",
    "    print(video.minutes, video.seconds)\n",
    "\n",
    "main()"
   ]
  }
 ],
 "metadata": {
  "kernelspec": {
   "display_name": "Python 3 (ipykernel)",
   "language": "python",
   "name": "python3"
  },
  "language_info": {
   "codemirror_mode": {
    "name": "ipython",
    "version": 3
   },
   "file_extension": ".py",
   "mimetype": "text/x-python",
   "name": "python",
   "nbconvert_exporter": "python",
   "pygments_lexer": "ipython3",
   "version": "3.10.6"
  },
  "orig_nbformat": 4
 },
 "nbformat": 4,
 "nbformat_minor": 2
}
