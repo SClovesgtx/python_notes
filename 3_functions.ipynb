{
 "cells": [
  {
   "attachments": {},
   "cell_type": "markdown",
   "metadata": {},
   "source": [
    "# Functions\n",
    "\n",
    "Every thing in Python is a object, thats includes the functions.\n",
    "\n",
    "Functions are callable object.\n",
    "\n",
    "Here how can use this idea:"
   ]
  },
  {
   "cell_type": "code",
   "execution_count": 1,
   "metadata": {
    "vscode": {
     "languageId": "python"
    }
   },
   "outputs": [
    {
     "name": "stdout",
     "output_type": "stream",
     "text": [
      "Checking Cloves\n",
      "Cloves is eligible.\n",
      "Checking Daniela\n",
      "Daniela is not eligible.\n"
     ]
    }
   ],
   "source": [
    "from dataclasses import dataclass\n",
    "from typing import Callable\n",
    "\n",
    "@dataclass\n",
    "class Customer:\n",
    "    name: str\n",
    "    age: int\n",
    "\n",
    "def send_email_promotion(customers: list[Customer], is_eligible: Callable[[Customer], bool]) -> None:\n",
    "    for customer in customers:\n",
    "        print(f\"Checking {customer.name}\")\n",
    "        if is_eligible(customer):\n",
    "            print(f\"{customer.name} is eligible.\")\n",
    "        else:\n",
    "            print(f\"{customer.name} is not eligible.\")\n",
    "\n",
    "def is_eligible_for_promotion(customer: Customer):\n",
    "    return customer.age >= 50\n",
    "\n",
    "def main():\n",
    "    customers = [\n",
    "        Customer(\"Cloves\", 50),\n",
    "        Customer(\"Daniela\", 32)\n",
    "    ]\n",
    "\n",
    "    send_email_promotion(customers=customers, is_eligible=is_eligible_for_promotion)\n",
    "\n",
    "main()"
   ]
  },
  {
   "attachments": {},
   "cell_type": "markdown",
   "metadata": {},
   "source": [
    "# Partial Function Application"
   ]
  },
  {
   "attachments": {},
   "cell_type": "markdown",
   "metadata": {},
   "source": [
    "Suppose now, we want to pass the function with a new parameter called ```min_age```. We are not able to pass a ```min_age``` different o default value when passing the function as a parameter of ```send_email_promotion```."
   ]
  },
  {
   "cell_type": "code",
   "execution_count": 3,
   "metadata": {
    "vscode": {
     "languageId": "python"
    }
   },
   "outputs": [
    {
     "name": "stdout",
     "output_type": "stream",
     "text": [
      "Checking Cloves\n",
      "Cloves is eligible.\n",
      "Checking Daniela\n",
      "Daniela is eligible.\n"
     ]
    }
   ],
   "source": [
    "from dataclasses import dataclass\n",
    "from typing import Callable\n",
    "import functools\n",
    "\n",
    "@dataclass\n",
    "class Customer:\n",
    "    name: str\n",
    "    age: int\n",
    "\n",
    "def send_email_promotion(customers: list[Customer], is_eligible: Callable[[Customer], bool]) -> None:\n",
    "    for customer in customers:\n",
    "        print(f\"Checking {customer.name}\")\n",
    "        if is_eligible(customer):\n",
    "            print(f\"{customer.name} is eligible.\")\n",
    "        else:\n",
    "            print(f\"{customer.name} is not eligible.\")\n",
    "\n",
    "def is_eligible_for_promotion(customer: Customer, min_age: int = 50):\n",
    "    return customer.age >= min_age\n",
    "\n",
    "def main():\n",
    "    customers = [\n",
    "        Customer(\"Cloves\", 50),\n",
    "        Customer(\"Daniela\", 32)\n",
    "    ]\n",
    "    is_eligible = functools.partial(is_eligible_for_promotion, min_age=30) # partial function application\n",
    "    send_email_promotion(customers=customers, is_eligible=is_eligible)\n",
    "\n",
    "main()"
   ]
  },
  {
   "attachments": {},
   "cell_type": "markdown",
   "metadata": {},
   "source": [
    "# Chace property"
   ]
  },
  {
   "attachments": {},
   "cell_type": "markdown",
   "metadata": {},
   "source": [
    "In some occasions is not interesting to recalculate a property, so we can use a cache.\n",
    "\n",
    "Here a example:"
   ]
  },
  {
   "cell_type": "code",
   "execution_count": 6,
   "metadata": {
    "vscode": {
     "languageId": "python"
    }
   },
   "outputs": [
    {
     "name": "stdout",
     "output_type": "stream",
     "text": [
      "Computing stdev...\n",
      "1.5811388300841898\n",
      "1.5811388300841898\n",
      "1.5811388300841898\n"
     ]
    }
   ],
   "source": [
    "import statistics\n",
    "from functools import cached_property\n",
    "from typing import Iterable\n",
    "\n",
    "class DataSet:\n",
    "    def __init__(self, sequence_of_numbers: Iterable[float]) -> None:\n",
    "        self._data = tuple(sequence_of_numbers)\n",
    "\n",
    "    @cached_property\n",
    "    def stdev(self):\n",
    "        print(\"Computing stdev...\")\n",
    "        return statistics.stdev(self._data)\n",
    "\n",
    "def main() -> None:\n",
    "    data = DataSet([1, 2, 3, 4, 5])\n",
    "    print(data.stdev)\n",
    "    print(data.stdev)\n",
    "    print(data.stdev)\n",
    "\n",
    "main()"
   ]
  },
  {
   "attachments": {},
   "cell_type": "markdown",
   "metadata": {},
   "source": [
    "# Single Dispatch"
   ]
  },
  {
   "attachments": {},
   "cell_type": "markdown",
   "metadata": {},
   "source": [
    "Same function signature that do different things, depending of parameter type:"
   ]
  },
  {
   "cell_type": "code",
   "execution_count": 8,
   "metadata": {
    "vscode": {
     "languageId": "python"
    }
   },
   "outputs": [
    {
     "name": "stdout",
     "output_type": "stream",
     "text": [
      "4\n",
      "Cloves Paiva\n"
     ]
    }
   ],
   "source": [
    "from functools import singledispatch\n",
    "\n",
    "@singledispatch\n",
    "def add(x: int, y: int) -> int:\n",
    "    return x + y\n",
    "\n",
    "@add.register\n",
    "def _(x: str, y: str) -> str:\n",
    "    return f\"{x} {y}\"\n",
    "\n",
    "def main() -> None:\n",
    "    print(add(2, 2))\n",
    "    print(add(\"Cloves\", \"Paiva\"))\n",
    "\n",
    "main()"
   ]
  }
 ],
 "metadata": {
  "kernelspec": {
   "display_name": "Python 3 (ipykernel)",
   "language": "python",
   "name": "python3"
  },
  "orig_nbformat": 4
 },
 "nbformat": 4,
 "nbformat_minor": 2
}
