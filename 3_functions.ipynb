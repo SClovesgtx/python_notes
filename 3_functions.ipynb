{
 "cells": [
  {
   "attachments": {},
   "cell_type": "markdown",
   "metadata": {},
   "source": [
    "# Functions\n",
    "\n",
    "Every thing in Python is a object, thats includes the functions.\n",
    "\n",
    "Functions are callable object.\n",
    "\n",
    "Here how can use this idea:"
   ]
  },
  {
   "cell_type": "code",
   "execution_count": 1,
   "metadata": {},
   "outputs": [
    {
     "name": "stdout",
     "output_type": "stream",
     "text": [
      "Checking Cloves\n",
      "Cloves is eligible.\n",
      "Checking Daniela\n",
      "Daniela is not eligible.\n"
     ]
    }
   ],
   "source": [
    "from dataclasses import dataclass\n",
    "from typing import Callable\n",
    "\n",
    "@dataclass\n",
    "class Customer:\n",
    "    name: str\n",
    "    age: int\n",
    "\n",
    "def send_email_promotion(customers: list[Customer], is_eligible: Callable[[Customer], bool]) -> None:\n",
    "    for customer in customers:\n",
    "        print(f\"Checking {customer.name}\")\n",
    "        if is_eligible(customer):\n",
    "            print(f\"{customer.name} is eligible.\")\n",
    "        else:\n",
    "            print(f\"{customer.name} is not eligible.\")\n",
    "\n",
    "def is_eligible_for_promotion(customer: Customer):\n",
    "    return customer.age >= 50\n",
    "\n",
    "def main():\n",
    "    customers = [\n",
    "        Customer(\"Cloves\", 50),\n",
    "        Customer(\"Daniela\", 32)\n",
    "    ]\n",
    "\n",
    "    send_email_promotion(customers=customers, is_eligible=is_eligible_for_promotion)\n",
    "\n",
    "main()"
   ]
  },
  {
   "attachments": {},
   "cell_type": "markdown",
   "metadata": {},
   "source": [
    "# Partial Function Application"
   ]
  },
  {
   "attachments": {},
   "cell_type": "markdown",
   "metadata": {},
   "source": [
    "Suppose now, we want to pass the function with a new parameter called ```min_age```. We are not able to pass a ```min_age``` different o default value when passing the function as a parameter of ```send_email_promotion```."
   ]
  },
  {
   "cell_type": "code",
   "execution_count": 3,
   "metadata": {},
   "outputs": [
    {
     "name": "stdout",
     "output_type": "stream",
     "text": [
      "Checking Cloves\n",
      "Cloves is eligible.\n",
      "Checking Daniela\n",
      "Daniela is eligible.\n"
     ]
    }
   ],
   "source": [
    "from dataclasses import dataclass\n",
    "from typing import Callable\n",
    "import functools\n",
    "\n",
    "@dataclass\n",
    "class Customer:\n",
    "    name: str\n",
    "    age: int\n",
    "\n",
    "def send_email_promotion(customers: list[Customer], is_eligible: Callable[[Customer], bool]) -> None:\n",
    "    for customer in customers:\n",
    "        print(f\"Checking {customer.name}\")\n",
    "        if is_eligible(customer):\n",
    "            print(f\"{customer.name} is eligible.\")\n",
    "        else:\n",
    "            print(f\"{customer.name} is not eligible.\")\n",
    "\n",
    "def is_eligible_for_promotion(customer: Customer, min_age: int = 50):\n",
    "    return customer.age >= min_age\n",
    "\n",
    "def main():\n",
    "    customers = [\n",
    "        Customer(\"Cloves\", 50),\n",
    "        Customer(\"Daniela\", 32)\n",
    "    ]\n",
    "    is_eligible = functools.partial(is_eligible_for_promotion, min_age=30) # partial function application\n",
    "    send_email_promotion(customers=customers, is_eligible=is_eligible)\n",
    "\n",
    "main()"
   ]
  }
 ],
 "metadata": {
  "kernelspec": {
   "display_name": "Python 3 (ipykernel)",
   "language": "python",
   "name": "python3"
  },
  "language_info": {
   "codemirror_mode": {
    "name": "ipython",
    "version": 3
   },
   "file_extension": ".py",
   "mimetype": "text/x-python",
   "name": "python",
   "nbconvert_exporter": "python",
   "pygments_lexer": "ipython3",
   "version": "3.10.6"
  },
  "orig_nbformat": 4
 },
 "nbformat": 4,
 "nbformat_minor": 2
}
