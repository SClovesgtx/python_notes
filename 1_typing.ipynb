{
 "cells": [
  {
   "cell_type": "markdown",
   "id": "66fba6b9",
   "metadata": {},
   "source": [
    "# Static vs. Dynamic Typing"
   ]
  },
  {
   "cell_type": "markdown",
   "id": "3efdefb2",
   "metadata": {},
   "source": [
    "- **Dynamic**: variable  types are infered in runing time.\n",
    "- **Static**: variable types must be explicitly declared and it can not change to another type because it is defined and compiled time. "
   ]
  },
  {
   "cell_type": "code",
   "execution_count": 4,
   "id": "f291502f",
   "metadata": {},
   "outputs": [
    {
     "name": "stdout",
     "output_type": "stream",
     "text": [
      "5\n"
     ]
    }
   ],
   "source": [
    "x = \"Hello\"\n",
    "x = 5\n",
    "print(x)"
   ]
  },
  {
   "cell_type": "markdown",
   "id": "2299e139",
   "metadata": {},
   "source": [
    "# Strong vs. Week Typing\n",
    "\n",
    "There is no rigid definition but the ideia of a week typed language can dynamically chage a variable of type int, for example, to a string to satisfy a operation. \n",
    "\n",
    "This is the case of JavaScript that permits adding a string and a number and for that it converts  the number to a string (that's  make sense  for a web envi).\n",
    "\n",
    "The C language  also do typing conversion, look  for *Type Conversion* title [here] (https://github.com/SClovesgtx/learning-c). The compiler deduce the conversion when variables with different types are part of a operation looking for the larger data type and converting the other data types to the type of the larger one.\n",
    "\n",
    "But Python  do not do that, is not possible  adding a string by a number"
   ]
  },
  {
   "cell_type": "code",
   "execution_count": 3,
   "id": "f6028403",
   "metadata": {},
   "outputs": [
    {
     "ename": "TypeError",
     "evalue": "can only concatenate str (not \"int\") to str",
     "output_type": "error",
     "traceback": [
      "\u001b[0;31m---------------------------------------------------------------------------\u001b[0m",
      "\u001b[0;31mTypeError\u001b[0m                                 Traceback (most recent call last)",
      "Cell \u001b[0;32mIn [3], line 1\u001b[0m\n\u001b[0;32m----> 1\u001b[0m \u001b[38;5;124;43m\"\u001b[39;49m\u001b[38;5;124;43mnumber: \u001b[39;49m\u001b[38;5;124;43m\"\u001b[39;49m\u001b[43m \u001b[49m\u001b[38;5;241;43m+\u001b[39;49m\u001b[43m \u001b[49m\u001b[38;5;241;43m5\u001b[39;49m\n",
      "\u001b[0;31mTypeError\u001b[0m: can only concatenate str (not \"int\") to str"
     ]
    }
   ],
   "source": [
    "\"number: \" + 5"
   ]
  },
  {
   "cell_type": "markdown",
   "id": "aba72c97",
   "metadata": {},
   "source": [
    "We need explicitly change the number to a string:"
   ]
  },
  {
   "cell_type": "code",
   "execution_count": 5,
   "id": "dde35eb4",
   "metadata": {},
   "outputs": [
    {
     "data": {
      "text/plain": [
       "'number: 5'"
      ]
     },
     "execution_count": 5,
     "metadata": {},
     "output_type": "execute_result"
    }
   ],
   "source": [
    "\"number: \" + str(5)"
   ]
  },
  {
   "cell_type": "markdown",
   "id": "f8cf0e99",
   "metadata": {},
   "source": [
    "In these way we can call python \"strong typed\"."
   ]
  },
  {
   "cell_type": "markdown",
   "id": "38c2f925",
   "metadata": {},
   "source": [
    "# Manifest (or Explicit ) vs. Inferred Typing"
   ]
  },
  {
   "cell_type": "code",
   "execution_count": null,
   "id": "0c6b3050",
   "metadata": {},
   "outputs": [],
   "source": []
  },
  {
   "cell_type": "markdown",
   "id": "d226d295",
   "metadata": {},
   "source": [
    "# Nominal vs. Structural Typing"
   ]
  },
  {
   "cell_type": "markdown",
   "id": "e1a5634b",
   "metadata": {},
   "source": [
    "A static type checker uses either the names or the structure of the types in order to compare them against other types. Checking against the name is nominal typing and checking against the structure is structural typing."
   ]
  },
  {
   "cell_type": "markdown",
   "id": "15835a1b",
   "metadata": {},
   "source": [
    "## Nominal  "
   ]
  },
  {
   "cell_type": "markdown",
   "id": "53b94f87",
   "metadata": {},
   "source": [
    "Languages like C++, Java, and Swift have primarily nominal type systems."
   ]
  },
  {
   "cell_type": "markdown",
   "id": "63d36161",
   "metadata": {},
   "source": [
    "```javascript \n",
    "// Pseudo code\n",
    "class Foo { method(input: string) { /* ... */ } }\n",
    "class Bar { method(input: string) { /* ... */ } }\n",
    "\n",
    "let foo: Foo = new Bar(); // Error!\n",
    "```"
   ]
  },
  {
   "cell_type": "markdown",
   "id": "8bb45074",
   "metadata": {},
   "source": [
    "Here you can see a pseudo-example of a nominal type system erroring out when you're trying to put a Bar where a Foo is required because they have different names."
   ]
  },
  {
   "cell_type": "markdown",
   "id": "5e44307a",
   "metadata": {},
   "source": [
    "## Structural "
   ]
  },
  {
   "cell_type": "markdown",
   "id": "1eeb1344",
   "metadata": {},
   "source": [
    "Languages like OCaml and Elm have primarily structural type systems."
   ]
  },
  {
   "cell_type": "markdown",
   "id": "391c361a",
   "metadata": {},
   "source": [
    "```javascript \n",
    "// Pseudo code\n",
    "class Foo { method(input: string) { /* ... */ } }\n",
    "class Bar { method(input: string) { /* ... */ } }\n",
    "\n",
    "let foo: Foo = new Bar(); // Works!\n",
    "```"
   ]
  },
  {
   "cell_type": "markdown",
   "id": "524a8e06",
   "metadata": {},
   "source": [
    "Here you can see a pseudo-example of a structural type system passing when you're trying to put a Bar where a Foo is required because their structure is exactly the same."
   ]
  },
  {
   "cell_type": "markdown",
   "id": "736dd3fe",
   "metadata": {},
   "source": [
    "## Python is structural or Nominal?"
   ]
  },
  {
   "cell_type": "markdown",
   "id": "fc2c7edc",
   "metadata": {},
   "source": [
    "Python uses **Duck Typing** that is pretty similar to structural typing."
   ]
  },
  {
   "cell_type": "markdown",
   "id": "2a20a282",
   "metadata": {},
   "source": [
    "\"*A programming style which does not look at an object’s type to determine if it has the right interface; instead, the method or attribute is simply called or used (**\"If it looks like a duck and quacks like a duck, it must be a duck.\"**) By emphasizing interfaces rather than specific types, well-designed code improves its flexibility by allowing polymorphic substitution. **Duck-typing avoids tests using type() or isinstance()**. (Note, however, that duck-typing can be complemented with abstract base classes.) Instead, **it typically employs hasattr() tests or EAFP programming**.*\" - [Python Documentation](https://docs.python.org/3/glossary.html#term-duck-typing)"
   ]
  },
  {
   "cell_type": "markdown",
   "id": "8fc13c90",
   "metadata": {},
   "source": [
    "\"*Duck typing is a concept related to dynamic typing, where the type or the class of an object is less important than the methods it defines. When you use duck typing, you do not check types at all. Instead, you check for the presence of a given method or attribute.*\" - [Real Python](https://realpython.com/lessons/duck-typing/#:~:text=Duck%20typing%20is%20a%20concept,a%20given%20method%20or%20attribute.)"
   ]
  },
  {
   "cell_type": "markdown",
   "id": "40538604",
   "metadata": {},
   "source": [
    "For example, you can call len() on any Python object that defines a .__len__() method:"
   ]
  },
  {
   "cell_type": "code",
   "execution_count": 12,
   "id": "45a670b4",
   "metadata": {},
   "outputs": [],
   "source": [
    "class Book:\n",
    "    def __init__(self, title: str, author: str, pages: int) -> None:\n",
    "        self.title = title\n",
    "        self.author = author \n",
    "        self.pages = pages \n",
    "    \n",
    "    def __len__(self):\n",
    "        return self.pages"
   ]
  },
  {
   "cell_type": "code",
   "execution_count": 13,
   "id": "247d46e0",
   "metadata": {},
   "outputs": [],
   "source": [
    "my_str = \"Hello World\"\n",
    "my_list = [34, 54, 65, 78]\n",
    "my_dict = {\"one\": 123, \"two\": 456, \"three\": 789}\n",
    "my_book = Book(\"Cem anos de Solidão\", \n",
    "              \"Gabriel Garcia Marquez\", \n",
    "              600)"
   ]
  },
  {
   "cell_type": "code",
   "execution_count": 15,
   "id": "1c258612",
   "metadata": {},
   "outputs": [
    {
     "data": {
      "text/plain": [
       "11"
      ]
     },
     "execution_count": 15,
     "metadata": {},
     "output_type": "execute_result"
    }
   ],
   "source": [
    "len(my_str)"
   ]
  },
  {
   "cell_type": "code",
   "execution_count": 16,
   "id": "02b5dfb2",
   "metadata": {},
   "outputs": [
    {
     "data": {
      "text/plain": [
       "4"
      ]
     },
     "execution_count": 16,
     "metadata": {},
     "output_type": "execute_result"
    }
   ],
   "source": [
    "len(my_list)"
   ]
  },
  {
   "cell_type": "code",
   "execution_count": 17,
   "id": "1b6079d0",
   "metadata": {},
   "outputs": [
    {
     "data": {
      "text/plain": [
       "3"
      ]
     },
     "execution_count": 17,
     "metadata": {},
     "output_type": "execute_result"
    }
   ],
   "source": [
    "len(my_dict)"
   ]
  },
  {
   "cell_type": "code",
   "execution_count": 18,
   "id": "34f140b1",
   "metadata": {},
   "outputs": [
    {
     "data": {
      "text/plain": [
       "600"
      ]
     },
     "execution_count": 18,
     "metadata": {},
     "output_type": "execute_result"
    }
   ],
   "source": [
    "len(my_book)"
   ]
  },
  {
   "cell_type": "code",
   "execution_count": 20,
   "id": "2c42aff7",
   "metadata": {},
   "outputs": [],
   "source": [
    "my_integer = 10"
   ]
  },
  {
   "cell_type": "markdown",
   "id": "b8fe635f",
   "metadata": {},
   "source": [
    "In order for you to call len(obj), the only real constraint on obj is that it must define a .__len__() method. \n",
    "\n",
    "That's not the case for integers:"
   ]
  },
  {
   "cell_type": "code",
   "execution_count": 22,
   "id": "c85ec244",
   "metadata": {},
   "outputs": [
    {
     "ename": "TypeError",
     "evalue": "object of type 'int' has no len()",
     "output_type": "error",
     "traceback": [
      "\u001b[0;31m---------------------------------------------------------------------------\u001b[0m",
      "\u001b[0;31mTypeError\u001b[0m                                 Traceback (most recent call last)",
      "Cell \u001b[0;32mIn [22], line 1\u001b[0m\n\u001b[0;32m----> 1\u001b[0m \u001b[38;5;28;43mlen\u001b[39;49m\u001b[43m(\u001b[49m\u001b[43mmy_integer\u001b[49m\u001b[43m)\u001b[49m\n",
      "\u001b[0;31mTypeError\u001b[0m: object of type 'int' has no len()"
     ]
    }
   ],
   "source": [
    "len(my_integer)"
   ]
  },
  {
   "cell_type": "markdown",
   "id": "4a343acf",
   "metadata": {},
   "source": [
    "# Typing Hint"
   ]
  },
  {
   "cell_type": "markdown",
   "id": "e5bd077a",
   "metadata": {},
   "source": [
    "You are not able to static typing variables, but you can give hints for the variable  type:"
   ]
  },
  {
   "cell_type": "code",
   "execution_count": 26,
   "id": "40a8556e",
   "metadata": {},
   "outputs": [],
   "source": [
    "def hinting(a: str, b: list[str], c: int) -> None:\n",
    "    print(a, b, c)"
   ]
  },
  {
   "cell_type": "code",
   "execution_count": 27,
   "id": "857c24b4",
   "metadata": {},
   "outputs": [
    {
     "name": "stdout",
     "output_type": "stream",
     "text": [
      "cloves ['a', 'b', 'c'] 10\n"
     ]
    }
   ],
   "source": [
    "hinting(\"cloves\", [\"a\", \"b\", \"c\"], 10)"
   ]
  },
  {
   "cell_type": "markdown",
   "id": "559cb47b",
   "metadata": {},
   "source": [
    "But I can pass any data typing to this func:"
   ]
  },
  {
   "cell_type": "code",
   "execution_count": 28,
   "id": "8640e29e",
   "metadata": {},
   "outputs": [
    {
     "name": "stdout",
     "output_type": "stream",
     "text": [
      "10.5 [1, 2, 3] True\n"
     ]
    }
   ],
   "source": [
    "hinting(10.5, [1, 2, 3], True)"
   ]
  },
  {
   "cell_type": "code",
   "execution_count": null,
   "id": "eb511b9f",
   "metadata": {},
   "outputs": [],
   "source": []
  }
 ],
 "metadata": {
  "kernelspec": {
   "display_name": "Python 3 (ipykernel)",
   "language": "python",
   "name": "python3"
  },
  "language_info": {
   "codemirror_mode": {
    "name": "ipython",
    "version": 3
   },
   "file_extension": ".py",
   "mimetype": "text/x-python",
   "name": "python",
   "nbconvert_exporter": "python",
   "pygments_lexer": "ipython3",
   "version": "3.10.6"
  }
 },
 "nbformat": 4,
 "nbformat_minor": 5
}
