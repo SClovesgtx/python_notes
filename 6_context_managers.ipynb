{
 "cells": [
  {
   "attachments": {},
   "cell_type": "markdown",
   "metadata": {},
   "source": [
    "# Context Manager\n",
    "\n",
    "We use it when read a file that we want to close, a connection to a database that we need to close after a error occur, etc."
   ]
  },
  {
   "cell_type": "code",
   "execution_count": 11,
   "metadata": {},
   "outputs": [],
   "source": [
    "import logging\n",
    "import sqlite3\n",
    "\n",
    "\n",
    "def make_query(query: str):\n",
    "    logging.basicConfig(level=logging.INFO)\n",
    "    connection = sqlite3.connect(\"application.db\")\n",
    "    try:\n",
    "        cursor = connection.cursor()\n",
    "        cursor.execute(query)\n",
    "        logging.info(cursor.fetchall())\n",
    "    finally:\n",
    "        connection.close()"
   ]
  },
  {
   "cell_type": "code",
   "execution_count": 12,
   "metadata": {},
   "outputs": [
    {
     "ename": "OperationalError",
     "evalue": "no such table: blogs",
     "output_type": "error",
     "traceback": [
      "\u001b[0;31m---------------------------------------------------------------------------\u001b[0m",
      "\u001b[0;31mOperationalError\u001b[0m                          Traceback (most recent call last)",
      "Cell \u001b[0;32mIn [12], line 1\u001b[0m\n\u001b[0;32m----> 1\u001b[0m make_query(\u001b[39m\"\u001b[39;49m\u001b[39mSELECT * FROM blogs\u001b[39;49m\u001b[39m\"\u001b[39;49m)\n",
      "Cell \u001b[0;32mIn [11], line 10\u001b[0m, in \u001b[0;36mmake_query\u001b[0;34m(query)\u001b[0m\n\u001b[1;32m      8\u001b[0m \u001b[39mtry\u001b[39;00m:\n\u001b[1;32m      9\u001b[0m     cursor \u001b[39m=\u001b[39m connection\u001b[39m.\u001b[39mcursor()\n\u001b[0;32m---> 10\u001b[0m     cursor\u001b[39m.\u001b[39;49mexecute(query)\n\u001b[1;32m     11\u001b[0m     logging\u001b[39m.\u001b[39minfo(cursor\u001b[39m.\u001b[39mfetchall())\n\u001b[1;32m     12\u001b[0m \u001b[39mfinally\u001b[39;00m:\n",
      "\u001b[0;31mOperationalError\u001b[0m: no such table: blogs"
     ]
    }
   ],
   "source": [
    "make_query(\"SELECT * FROM blogs\")"
   ]
  },
  {
   "attachments": {},
   "cell_type": "markdown",
   "metadata": {},
   "source": [
    "Instead of using try finally, we can use a context that do the same job:"
   ]
  },
  {
   "cell_type": "code",
   "execution_count": 13,
   "metadata": {},
   "outputs": [],
   "source": [
    "import logging\n",
    "import sqlite3\n",
    "\n",
    "\n",
    "def make_query(query: str):\n",
    "    logging.basicConfig(level=logging.INFO)\n",
    "    with sqlite3.connect(\"application.db\") as connection:\n",
    "        cursor = connection.cursor()\n",
    "        cursor.execute(query)\n",
    "        logging.info(cursor.fetchall())"
   ]
  },
  {
   "cell_type": "code",
   "execution_count": 14,
   "metadata": {},
   "outputs": [
    {
     "ename": "OperationalError",
     "evalue": "no such table: blogs",
     "output_type": "error",
     "traceback": [
      "\u001b[0;31m---------------------------------------------------------------------------\u001b[0m",
      "\u001b[0;31mOperationalError\u001b[0m                          Traceback (most recent call last)",
      "Cell \u001b[0;32mIn [14], line 1\u001b[0m\n\u001b[0;32m----> 1\u001b[0m make_query(\u001b[39m\"\u001b[39;49m\u001b[39mSELECT * FROM blogs\u001b[39;49m\u001b[39m\"\u001b[39;49m)\n",
      "Cell \u001b[0;32mIn [13], line 9\u001b[0m, in \u001b[0;36mmake_query\u001b[0;34m(query)\u001b[0m\n\u001b[1;32m      7\u001b[0m \u001b[39mwith\u001b[39;00m sqlite3\u001b[39m.\u001b[39mconnect(\u001b[39m\"\u001b[39m\u001b[39mapplication.db\u001b[39m\u001b[39m\"\u001b[39m) \u001b[39mas\u001b[39;00m connection:\n\u001b[1;32m      8\u001b[0m     cursor \u001b[39m=\u001b[39m connection\u001b[39m.\u001b[39mcursor()\n\u001b[0;32m----> 9\u001b[0m     cursor\u001b[39m.\u001b[39;49mexecute(query)\n\u001b[1;32m     10\u001b[0m     logging\u001b[39m.\u001b[39minfo(cursor\u001b[39m.\u001b[39mfetchall())\n",
      "\u001b[0;31mOperationalError\u001b[0m: no such table: blogs"
     ]
    }
   ],
   "source": [
    "make_query(\"SELECT * FROM blogs\")"
   ]
  },
  {
   "attachments": {},
   "cell_type": "markdown",
   "metadata": {},
   "source": [
    "# Creating our own context manager\n",
    "\n",
    "Define a class with dunder methods ```__enter__``` and ```__exit__```:"
   ]
  },
  {
   "cell_type": "code",
   "execution_count": 15,
   "metadata": {},
   "outputs": [],
   "source": [
    "import logging\n",
    "import sqlite3\n",
    "\n",
    "\n",
    "class SQLite:\n",
    "    def __init__(self, file_name: str):\n",
    "        self.file_name = file_name\n",
    "        self.connection = sqlite3.connect(file_name)\n",
    "\n",
    "    def __enter__(self):\n",
    "        logging.info(\"Calling __enter__\")\n",
    "        return self.connection.cursor()\n",
    "\n",
    "    def __exit__(self, error: Exception, value: object, traceback: object):\n",
    "        logging.info(\"Calling __exit__\")\n",
    "        self.connection.commit()\n",
    "        self.connection.close()\n",
    "\n",
    "def make_query(query: str):\n",
    "    logging.basicConfig(level=logging.INFO)\n",
    "    with SQLite(\"application.db\") as cursor:\n",
    "        cursor.execute(query)\n",
    "        logging.info(cursor.fetchall())"
   ]
  },
  {
   "cell_type": "code",
   "execution_count": 16,
   "metadata": {},
   "outputs": [
    {
     "name": "stderr",
     "output_type": "stream",
     "text": [
      "INFO:root:Calling __enter__\n",
      "INFO:root:Calling __exit__\n"
     ]
    },
    {
     "ename": "OperationalError",
     "evalue": "no such table: blogs",
     "output_type": "error",
     "traceback": [
      "\u001b[0;31m---------------------------------------------------------------------------\u001b[0m",
      "\u001b[0;31mOperationalError\u001b[0m                          Traceback (most recent call last)",
      "Cell \u001b[0;32mIn [16], line 1\u001b[0m\n\u001b[0;32m----> 1\u001b[0m make_query(\u001b[39m\"\u001b[39;49m\u001b[39mSELECT * FROM blogs\u001b[39;49m\u001b[39m\"\u001b[39;49m)\n",
      "Cell \u001b[0;32mIn [15], line 22\u001b[0m, in \u001b[0;36mmake_query\u001b[0;34m(query)\u001b[0m\n\u001b[1;32m     20\u001b[0m logging\u001b[39m.\u001b[39mbasicConfig(level\u001b[39m=\u001b[39mlogging\u001b[39m.\u001b[39mINFO)\n\u001b[1;32m     21\u001b[0m \u001b[39mwith\u001b[39;00m SQLite(\u001b[39m\"\u001b[39m\u001b[39mapplication.db\u001b[39m\u001b[39m\"\u001b[39m) \u001b[39mas\u001b[39;00m cursor:\n\u001b[0;32m---> 22\u001b[0m     cursor\u001b[39m.\u001b[39;49mexecute(query)\n\u001b[1;32m     23\u001b[0m     logging\u001b[39m.\u001b[39minfo(cursor\u001b[39m.\u001b[39mfetchall())\n",
      "\u001b[0;31mOperationalError\u001b[0m: no such table: blogs"
     ]
    }
   ],
   "source": [
    "make_query(\"SELECT * FROM blogs\")"
   ]
  }
 ],
 "metadata": {
  "kernelspec": {
   "display_name": "Python 3",
   "language": "python",
   "name": "python3"
  },
  "language_info": {
   "codemirror_mode": {
    "name": "ipython",
    "version": 3
   },
   "file_extension": ".py",
   "mimetype": "text/x-python",
   "name": "python",
   "nbconvert_exporter": "python",
   "pygments_lexer": "ipython3",
   "version": "3.10.6"
  },
  "orig_nbformat": 4,
  "vscode": {
   "interpreter": {
    "hash": "31f2aee4e71d21fbe5cf8b01ff0e069b9275f58929596ceb00d14d90e3e16cd6"
   }
  }
 },
 "nbformat": 4,
 "nbformat_minor": 2
}
