{
 "cells": [
  {
   "cell_type": "code",
   "execution_count": 6,
   "metadata": {},
   "outputs": [
    {
     "name": "stdout",
     "output_type": "stream",
     "text": [
      "Approach 1:\n",
      "\n",
      "Item(name='laptop', weight=1.5)\n",
      "Item(name='phone', weight=0.5)\n",
      "\n",
      "Approach 2:\n",
      "\n",
      "Item(name='laptop', weight=1.5)\n",
      "Item(name='phone', weight=0.5)\n",
      "\n",
      "Approach 3:\n",
      "\n",
      "Item(name='laptop', weight=1.5)\n",
      "Item(name='phone', weight=0.5)\n",
      "Item(name='phone', weight=1.0)\n",
      "Item(name='camera', weight=1.0)\n",
      "Item(name='headphones', weight=0.5)\n",
      "Item(name='charger', weight=0.5)\n"
     ]
    }
   ],
   "source": [
    "from dataclasses import dataclass\n",
    "\n",
    "@dataclass\n",
    "class Item:\n",
    "    name: str\n",
    "    weight: float\n",
    "\n",
    "inventory = [\n",
    "    Item(\"laptop\", 1.5),\n",
    "    Item(\"phone\", 0.5),\n",
    "    Item(\"phone\", 1.0),\n",
    "    Item(\"camera\", 1.0),\n",
    "    Item(\"headphones\", 0.5),\n",
    "    Item(\"charger\", 0.5),\n",
    "]\n",
    "\n",
    "def iter_approach_1() -> None:\n",
    "    print(\"Approach 1:\\n\")\n",
    "    inventory_iterator = inventory.__iter__()\n",
    "    print(inventory_iterator.__next__())\n",
    "    print(inventory_iterator.__next__())\n",
    "    \n",
    "def iter_approach_2() -> None:\n",
    "    print(\"\\nApproach 2:\\n\")\n",
    "    inventory_iterator = iter(inventory)\n",
    "    print(next(inventory_iterator))\n",
    "    print(next(inventory_iterator))\n",
    "\n",
    "def iter_approach_3() -> None:\n",
    "    print(\"\\nApproach 3:\\n\")\n",
    "    for item in inventory:\n",
    "        print(item)\n",
    "\n",
    "iter_approach_1()\n",
    "iter_approach_2()\n",
    "iter_approach_3()\n"
   ]
  },
  {
   "attachments": {},
   "cell_type": "markdown",
   "metadata": {},
   "source": [
    "# Iterators to Introduce Abstractions"
   ]
  },
  {
   "cell_type": "code",
   "execution_count": 7,
   "metadata": {},
   "outputs": [
    {
     "name": "stdout",
     "output_type": "stream",
     "text": [
      "2\n",
      "12\n",
      "20\n"
     ]
    }
   ],
   "source": [
    "from dataclasses import dataclass\n",
    "from typing import Iterable\n",
    "\n",
    "@dataclass\n",
    "class LineItem:\n",
    "    price: float\n",
    "    quantity: int\n",
    "\n",
    "    def total_price(self) -> float:\n",
    "        return self.price * self.quantity\n",
    "\n",
    "def print_total(items: Iterable[LineItem]) -> None: # no matters the iterable, could be a list, a dictionary, a tuple, etc. \n",
    "    for item in items:\n",
    "        print(item.total_price())\n",
    "\n",
    "def main() -> None:\n",
    "    line_items = [\n",
    "        LineItem(1, 2),\n",
    "        LineItem(3, 4),\n",
    "        LineItem(4, 5),\n",
    "    ]\n",
    "    print_total(line_items)\n",
    "\n",
    "main()"
   ]
  },
  {
   "attachments": {},
   "cell_type": "markdown",
   "metadata": {},
   "source": [
    "Please, check [itertools](https://docs.python.org/3/library/itertools.html)."
   ]
  },
  {
   "attachments": {},
   "cell_type": "markdown",
   "metadata": {},
   "source": [
    "# [Generators](https://realpython.com/introduction-to-python-generators/): kind of function that return a lazy iterator\n",
    "\n",
    "Have you ever had to work with a dataset so large that it overwhelmed your machine’s memory? Or maybe you have a complex function that needs to maintain an internal state every time it’s called, but the function is too small to justify creating its own class. In these cases and more, generators and the Python yield statement are here to help.\n",
    "\n",
    "These are objects that you can loop over like a list. However, unlike lists, lazy iterators do not store their contents in memory."
   ]
  },
  {
   "cell_type": "code",
   "execution_count": 5,
   "metadata": {},
   "outputs": [],
   "source": [
    "def infinite_sequence():\n",
    "    num = 0\n",
    "    while True:\n",
    "        yield num\n",
    "        num += 1"
   ]
  },
  {
   "cell_type": "code",
   "execution_count": 6,
   "metadata": {},
   "outputs": [],
   "source": [
    "infinite = infinite_sequence()"
   ]
  },
  {
   "cell_type": "code",
   "execution_count": 29,
   "metadata": {},
   "outputs": [
    {
     "data": {
      "text/plain": [
       "22"
      ]
     },
     "execution_count": 29,
     "metadata": {},
     "output_type": "execute_result"
    }
   ],
   "source": [
    "next(infinite)"
   ]
  }
 ],
 "metadata": {
  "kernelspec": {
   "display_name": "Python 3",
   "language": "python",
   "name": "python3"
  },
  "language_info": {
   "codemirror_mode": {
    "name": "ipython",
    "version": 3
   },
   "file_extension": ".py",
   "mimetype": "text/x-python",
   "name": "python",
   "nbconvert_exporter": "python",
   "pygments_lexer": "ipython3",
   "version": "3.10.6"
  },
  "orig_nbformat": 4,
  "vscode": {
   "interpreter": {
    "hash": "31f2aee4e71d21fbe5cf8b01ff0e069b9275f58929596ceb00d14d90e3e16cd6"
   }
  }
 },
 "nbformat": 4,
 "nbformat_minor": 2
}
