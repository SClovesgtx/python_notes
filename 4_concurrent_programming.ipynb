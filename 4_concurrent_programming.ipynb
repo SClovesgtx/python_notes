{
 "cells": [
  {
   "attachments": {},
   "cell_type": "markdown",
   "metadata": {},
   "source": [
    "# Concurrent vs Parallel "
   ]
  },
  {
   "attachments": {},
   "cell_type": "markdown",
   "metadata": {},
   "source": [
    "In concurrent programming, the computer switch between tasks, making a little of task A and after going to do a bit of task B, and churn back to more in A, and so on, all this in the same core.\n",
    "\n",
    "In parallel programming, task A and B are computed simultaneously in different cores.\n",
    "\n",
    "![](./imgs/concurrent_vs_parallel.jpeg)\n"
   ]
  },
  {
   "attachments": {},
   "cell_type": "markdown",
   "metadata": {},
   "source": [
    "In Python we have a [Global Interpret Lock](https://realpython.com/python-gil/) (GIL). The impact that GIL brings is that you have multiple threads that could be performed in parallel Python will not allow, because it is locked by the interpreted, so the true parallelism in python is not possible."
   ]
  },
  {
   "attachments": {},
   "cell_type": "markdown",
   "metadata": {},
   "source": [
    "# Doing Concurrent Programming in Python: async and await"
   ]
  },
  {
   "cell_type": "code",
   "execution_count": 8,
   "metadata": {},
   "outputs": [],
   "source": [
    "import asyncio\n",
    "from random import randint\n",
    "import requests\n",
    "import json\n",
    "\n",
    "# The highest Pokemon Id\n",
    "MAX_POKEMON = 898\n",
    "\n",
    "async def get_pokemon(pokemon_id: int) -> dict:\n",
    "    pokemon_url = f\"https://pokeapi.co/api/v2/pokemon/{pokemon_id}\"\n",
    "    content = requests.get(pokemon_url).content\n",
    "    res = json.loads(content.decode(\"utf-8\"))\n",
    "    return res\n",
    "\n",
    "async def main() -> None:\n",
    "    pokemon_id = randint(1, MAX_POKEMON)\n",
    "    pokemon = await get_pokemon(pokemon_id)\n",
    "    print(pokemon[\"name\"])"
   ]
  },
  {
   "cell_type": "code",
   "execution_count": 14,
   "metadata": {},
   "outputs": [
    {
     "name": "stdout",
     "output_type": "stream",
     "text": [
      "golurk\n"
     ]
    }
   ],
   "source": [
    "await main()"
   ]
  }
 ],
 "metadata": {
  "kernelspec": {
   "display_name": "Python 3 (ipykernel)",
   "language": "python",
   "name": "python3"
  },
  "language_info": {
   "codemirror_mode": {
    "name": "ipython",
    "version": 3
   },
   "file_extension": ".py",
   "mimetype": "text/x-python",
   "name": "python",
   "nbconvert_exporter": "python",
   "pygments_lexer": "ipython3",
   "version": "3.10.6"
  },
  "orig_nbformat": 4
 },
 "nbformat": 4,
 "nbformat_minor": 2
}
