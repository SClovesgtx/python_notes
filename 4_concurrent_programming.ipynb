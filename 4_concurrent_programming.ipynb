{
 "cells": [
  {
   "cell_type": "markdown",
   "metadata": {},
   "source": [
    "# Concurrent vs Parallel "
   ]
  },
  {
   "cell_type": "markdown",
   "metadata": {},
   "source": [
    "In concurrent programming, the computer switch between tasks, making a little of task A and after going to do a bit of task B, and churn back to more in A, and so on, all this in the same core.\n",
    "\n",
    "In parallel programming, task A and B are computed simultaneously in different cores.\n",
    "\n",
    "![](./imgs/concurrent_vs_parallel.jpeg)\n"
   ]
  },
  {
   "cell_type": "markdown",
   "metadata": {},
   "source": [
    "In Python we have a [Global Interpret Lock](https://realpython.com/python-gil/) (GIL). The impact that GIL brings is that you have multiple threads that could be performed in parallel Python will not allow, because it is locked by the interpreted, so the true parallelism in python is not possible."
   ]
  },
  {
   "cell_type": "markdown",
   "metadata": {},
   "source": [
    "# Doing Concurrent Programming in Python: async and await"
   ]
  },
  {
   "cell_type": "code",
   "execution_count": 8,
   "metadata": {},
   "outputs": [],
   "source": [
    "import asyncio\n",
    "from random import randint\n",
    "import requests\n",
    "import json\n",
    "\n",
    "# The highest Pokemon Id\n",
    "MAX_POKEMON = 898\n",
    "\n",
    "async def get_pokemon(pokemon_id: int) -> dict:\n",
    "    pokemon_url = f\"https://pokeapi.co/api/v2/pokemon/{pokemon_id}\"\n",
    "    content = requests.get(pokemon_url).content\n",
    "    res = json.loads(content.decode(\"utf-8\"))\n",
    "    return res\n",
    "\n",
    "async def main() -> None:\n",
    "    pokemon_id = randint(1, MAX_POKEMON)\n",
    "    pokemon = await get_pokemon(pokemon_id)\n",
    "    print(pokemon[\"name\"])"
   ]
  },
  {
   "cell_type": "code",
   "execution_count": 14,
   "metadata": {},
   "outputs": [
    {
     "name": "stdout",
     "output_type": "stream",
     "text": [
      "golurk\n"
     ]
    }
   ],
   "source": [
    "await main()"
   ]
  },
  {
   "cell_type": "markdown",
   "metadata": {},
   "source": [
    "Another example but now makeing a request async using ayncio."
   ]
  },
  {
   "cell_type": "code",
   "execution_count": 5,
   "metadata": {},
   "outputs": [],
   "source": [
    "import requests\n",
    "import time\n",
    "import asyncio\n",
    "\n",
    "async def counter(until: int = 10) -> None:\n",
    "    now =time.perf_counter()\n",
    "    print(\"Started counter\")\n",
    "    for i in range(0, until):\n",
    "        last = now\n",
    "        await asyncio.sleep(0.01)\n",
    "        now = time.perf_counter()\n",
    "        print(f\"{i}: Was asleep for {now - last}s.\")\n",
    "        \n",
    "def send_request(url: str) -> int:\n",
    "    print(\"Sending HTTP request.\")\n",
    "    res = requests.get(url)\n",
    "    return res.status_code\n",
    "\n",
    "async def send_async_req(url: str):\n",
    "    return await asyncio.to_thread(send_request, url)\n",
    "\n",
    "async def main() -> None:\n",
    "    status_code, _ =  await asyncio.gather(\n",
    "        send_async_req(\"https://www.google.com\"),\n",
    "        counter()\n",
    "    )\n",
    "    print(f\"Got status code {status_code}\")"
   ]
  },
  {
   "cell_type": "code",
   "execution_count": 6,
   "metadata": {},
   "outputs": [
    {
     "name": "stdout",
     "output_type": "stream",
     "text": [
      "Started counter\n",
      "Sending HTTP request.\n",
      "0: Was asleep for 0.010847473997273482s.\n",
      "1: Was asleep for 0.010253444001136813s.\n",
      "2: Was asleep for 0.010279731002810877s.\n",
      "3: Was asleep for 0.010522189993935172s.\n",
      "4: Was asleep for 0.010346019000280648s.\n",
      "5: Was asleep for 0.010296741005731747s.\n",
      "6: Was asleep for 0.010199637996265665s.\n",
      "7: Was asleep for 0.010216428003332112s.\n",
      "8: Was asleep for 0.010196167000685818s.\n",
      "9: Was asleep for 0.010154602998227347s.\n",
      "Got status code 200\n"
     ]
    }
   ],
   "source": [
    "await main()"
   ]
  },
  {
   "cell_type": "code",
   "execution_count": null,
   "metadata": {},
   "outputs": [],
   "source": []
  }
 ],
 "metadata": {
  "kernelspec": {
   "display_name": "Python 3 (ipykernel)",
   "language": "python",
   "name": "python3"
  },
  "language_info": {
   "codemirror_mode": {
    "name": "ipython",
    "version": 3
   },
   "file_extension": ".py",
   "mimetype": "text/x-python",
   "name": "python",
   "nbconvert_exporter": "python",
   "pygments_lexer": "ipython3",
   "version": "3.10.6"
  }
 },
 "nbformat": 4,
 "nbformat_minor": 2
}
